{
 "cells": [
  {
   "cell_type": "code",
   "execution_count": 1,
   "source": [
    "import easyocr\r\n",
    "import cv2\r\n",
    "import matplotlib.pyplot as plt\r\n",
    "import numpy as np\r\n",
    "import gradio as gr"
   ],
   "outputs": [],
   "metadata": {}
  },
  {
   "cell_type": "code",
   "execution_count": 5,
   "source": [
    "def ocr_function(img):\r\n",
    "    reader = easyocr.Reader(['en'], gpu=False)\r\n",
    "    result = reader.readtext(img)\r\n",
    "    for detection in result:\r\n",
    "        new_left = tuple([int(val) for val in detection[0][0]])\r\n",
    "        new_right = tuple([int(val) for val in detection[0][2]])\r\n",
    "        text = detection[1]\r\n",
    "        font = cv2.FONT_HERSHEY_SIMPLEX\r\n",
    "        img = cv2.rectangle(img, new_left, new_right, (0,250,0), 5)\r\n",
    "        # img = cv2.putText(img, text, new_left, font, 2, (255,255,255), 2, cv2.LINE_AA)\r\n",
    "    return img\r\n",
    "# plt.imshow(img)\r\n",
    "# plt.show()"
   ],
   "outputs": [],
   "metadata": {}
  },
  {
   "cell_type": "code",
   "execution_count": 6,
   "source": [
    "imagein = gr.inputs.Image()\r\n",
    "imageout = gr.outputs.Image()\r\n",
    "descriptin = \"OCR\""
   ],
   "outputs": [],
   "metadata": {}
  },
  {
   "cell_type": "code",
   "execution_count": 7,
   "source": [
    "gr.Interface(ocr_function, imagein, imageout, description=descriptin).launch()"
   ],
   "outputs": [
    {
     "output_type": "stream",
     "name": "stdout",
     "text": [
      "Running locally at: http://127.0.0.1:7862/\n",
      "To create a public link, set `share=True` in `launch()`.\n",
      "Interface loading below...\n"
     ]
    },
    {
     "output_type": "display_data",
     "data": {
      "text/html": [
       "\n",
       "        <iframe\n",
       "            width=\"900\"\n",
       "            height=\"500\"\n",
       "            src=\"http://127.0.0.1:7862/\"\n",
       "            frameborder=\"0\"\n",
       "            allowfullscreen\n",
       "        ></iframe>\n",
       "        "
      ],
      "text/plain": [
       "<IPython.lib.display.IFrame at 0x2a2f20b7520>"
      ]
     },
     "metadata": {}
    },
    {
     "output_type": "execute_result",
     "data": {
      "text/plain": [
       "(<Flask 'gradio.networking'>, 'http://127.0.0.1:7862/', None)"
      ]
     },
     "metadata": {},
     "execution_count": 7
    },
    {
     "output_type": "stream",
     "name": "stderr",
     "text": [
      "Using CPU. Note: This module is much faster with a GPU.\n",
      "c:\\Users\\RobinSingh\\MLDLProjects\\MLDLEnvir\\lib\\site-packages\\torch\\nn\\functional.py:718: UserWarning: Named tensors and all their associated APIs are an experimental feature and subject to change. Please do not use them for anything important until they are released as stable. (Triggered internally at  ..\\c10/core/TensorImpl.h:1156.)\n",
      "  return torch.max_pool2d(input, kernel_size, stride, padding, dilation, ceil_mode)\n",
      "Using CPU. Note: This module is much faster with a GPU.\n"
     ]
    }
   ],
   "metadata": {}
  }
 ],
 "metadata": {
  "orig_nbformat": 4,
  "language_info": {
   "name": "python",
   "version": "3.9.6",
   "mimetype": "text/x-python",
   "codemirror_mode": {
    "name": "ipython",
    "version": 3
   },
   "pygments_lexer": "ipython3",
   "nbconvert_exporter": "python",
   "file_extension": ".py"
  },
  "kernelspec": {
   "name": "python3",
   "display_name": "Python 3.9.6 64-bit ('MLDLEnvir': venv)"
  },
  "interpreter": {
   "hash": "7330832b67ea0bf110736c34d752c7bd104a3cbbcb0d5a26a7ebb8efd51a5e54"
  }
 },
 "nbformat": 4,
 "nbformat_minor": 2
}